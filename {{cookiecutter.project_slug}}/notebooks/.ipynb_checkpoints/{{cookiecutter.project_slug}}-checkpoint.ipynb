{
 "cells": [
  {
   "cell_type": "markdown",
   "id": "595130c1",
   "metadata": {},
   "source": [
    "# Notebook title"
   ]
  },
  {
   "cell_type": "markdown",
   "id": "93cf5272",
   "metadata": {},
   "source": [
    "## Description\n",
    "Blah"
   ]
  }
 ],
 "metadata": {
  "kernelspec": {
   "display_name": "Python 3 (ipykernel)",
   "language": "python",
   "name": "python3"
  },
  "language_info": {
   "codemirror_mode": {
    "name": "ipython",
    "version": 3
   },
   "file_extension": ".py",
   "mimetype": "text/x-python",
   "name": "python",
   "nbconvert_exporter": "python",
   "pygments_lexer": "ipython3",
   "version": "3.9.12"
  }
 },
 "nbformat": 4,
 "nbformat_minor": 5
}
